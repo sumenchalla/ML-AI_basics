{
 "cells": [
  {
   "cell_type": "markdown",
   "metadata": {},
   "source": [
    "Q1. Explain Class and Object with respect to Object-Oriented Programming. Give a suitable example."
   ]
  },
  {
   "cell_type": "code",
   "execution_count": 5,
   "metadata": {},
   "outputs": [
    {
     "name": "stdout",
     "output_type": "stream",
     "text": [
      "2023\n",
      "2024\n"
     ]
    }
   ],
   "source": [
    "#In object-oriented programming (OOP), a class is a blueprint for creating objects (instances). It defines the properties (attributes) \n",
    "#and behaviors (methods) that all objects of that class will have. An object, on the other hand, is an instance of a class.\n",
    "\n",
    "#example\n",
    "\n",
    "class car: # This is a class\n",
    "    def __init__(self,model,manuf) -> None:\n",
    "        self.model = model\n",
    "        self.manufacturer = manuf\n",
    "\n",
    "    def model(self):\n",
    "        print(self.model)\n",
    "    def manu(self):\n",
    "        print(self.manufacturer)\n",
    "    \n",
    "car1 = car(2023,\"Toyata\") #This is an object of class car\n",
    "car2 = car(2024,\"Hyundai\") #This is another object of class car\n",
    "\n",
    "#An class can have multiple objects but one object belongs only one class\n",
    "\n",
    "print(car1.model)\n",
    "print(car2.model) # Every object of a class can have all its objects and methods"
   ]
  },
  {
   "cell_type": "markdown",
   "metadata": {},
   "source": [
    "Q2. Name the four pillars of OOPs."
   ]
  },
  {
   "cell_type": "code",
   "execution_count": 6,
   "metadata": {},
   "outputs": [],
   "source": [
    "# 1.Polymorphism\n",
    "# 2.Encapsulation\n",
    "# 3.Abstraction\n",
    "# 4.Inheritance"
   ]
  },
  {
   "cell_type": "markdown",
   "metadata": {},
   "source": [
    "Q3. Explain why the __init__() function is used. Give a suitable example."
   ]
  },
  {
   "cell_type": "code",
   "execution_count": 7,
   "metadata": {},
   "outputs": [],
   "source": [
    "# __init__() is a constructor in a class that means all the inputs(Attributes) for that class will be taken care of this method\n",
    "# And it is used to Initialize the Attributes and setting the default values to Attributes"
   ]
  },
  {
   "cell_type": "markdown",
   "metadata": {},
   "source": [
    "Q4. Why self is used in OOPs?"
   ]
  },
  {
   "cell_type": "code",
   "execution_count": 8,
   "metadata": {},
   "outputs": [],
   "source": [
    "#self is used to refer to the current instance of a class. It allows methods within the class to access and modify the attributes and \n",
    "# methods of the object itself."
   ]
  },
  {
   "cell_type": "markdown",
   "metadata": {},
   "source": [
    "Q5. What is inheritance? Give an example for each type of inheritance."
   ]
  },
  {
   "cell_type": "code",
   "execution_count": 10,
   "metadata": {},
   "outputs": [
    {
     "name": "stdout",
     "output_type": "stream",
     "text": [
      "Animal speaks\n",
      "Dog barks\n",
      "Method A\n",
      "Method B\n",
      "Method C\n"
     ]
    }
   ],
   "source": [
    "#When a new class  is  created based on an existing class  The subclass inherits the attributes and methods of the superclass, \n",
    "#allowing for code reuse and the creation of a hierarchy of classes.\n",
    "\n",
    "#There are two types of inheritance:\n",
    "\n",
    "# 1.Single Inheritance: A subclass inherits from only one superclass.\n",
    "# 2.Multiple Inheritance: A subclass inherits from multiple superclasses.\n",
    "\n",
    "\n",
    "class Animal:\n",
    "    def speak(self):\n",
    "        print(\"Animal speaks\")\n",
    "\n",
    "class Dog(Animal):\n",
    "    def bark(self):\n",
    "        print(\"Dog barks\")\n",
    "\n",
    "dog = Dog()\n",
    "dog.speak()  # Output: Animal speaks\n",
    "dog.bark()   # Output: Dog barks\n",
    "\n",
    "\n",
    "# Multiple Inheritance\n",
    "class A:\n",
    "    def method_A(self):\n",
    "        print(\"Method A\")\n",
    "\n",
    "class B:\n",
    "    def method_B(self):\n",
    "        print(\"Method B\")\n",
    "\n",
    "class C(A, B):\n",
    "    def method_C(self):\n",
    "        print(\"Method C\")\n",
    "\n",
    "c = C()\n",
    "c.method_A()  # Output: Method A\n",
    "c.method_B()  # Output: Method B\n",
    "c.method_C()  # Output: Method C"
   ]
  },
  {
   "cell_type": "code",
   "execution_count": null,
   "metadata": {},
   "outputs": [],
   "source": []
  }
 ],
 "metadata": {
  "kernelspec": {
   "display_name": "myenv",
   "language": "python",
   "name": "python3"
  },
  "language_info": {
   "codemirror_mode": {
    "name": "ipython",
    "version": 3
   },
   "file_extension": ".py",
   "mimetype": "text/x-python",
   "name": "python",
   "nbconvert_exporter": "python",
   "pygments_lexer": "ipython3",
   "version": "3.8.18"
  }
 },
 "nbformat": 4,
 "nbformat_minor": 2
}
