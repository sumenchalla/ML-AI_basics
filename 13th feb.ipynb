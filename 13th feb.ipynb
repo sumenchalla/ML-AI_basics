{
 "cells": [
  {
   "cell_type": "markdown",
   "metadata": {},
   "source": [
    "Q1. Explain why we have to use the Exception class while creating a Custom Exception.\n",
    "Note: Here Exception class refers to the base class for all the exceptions."
   ]
  },
  {
   "cell_type": "code",
   "execution_count": null,
   "metadata": {},
   "outputs": [],
   "source": [
    "'''\n",
    "Because exception class containa all types of errors confgured in it , what every type of error that we might face we can simple \n",
    "except if by writing expection block'''"
   ]
  },
  {
   "cell_type": "markdown",
   "metadata": {},
   "source": [
    "Q2. Write a python program to print Python Exception Hierarchy."
   ]
  },
  {
   "cell_type": "code",
   "execution_count": null,
   "metadata": {},
   "outputs": [],
   "source": [
    "def print_exception_hierarchy(exception_class, indent=0):\n",
    "    print('  ' * indent + exception_class.__name__)\n",
    "    for subclass in exception_class.__subclasses__():\n",
    "        print_exception_hierarchy(subclass, indent + 1)\n",
    "\n",
    "print_exception_hierarchy(BaseException)\n"
   ]
  },
  {
   "cell_type": "markdown",
   "metadata": {},
   "source": [
    "Q3. What errors are defined in the ArithmeticError class? Explain any two with an example."
   ]
  },
  {
   "cell_type": "code",
   "execution_count": null,
   "metadata": {},
   "outputs": [
    {
     "name": "stdout",
     "output_type": "stream",
     "text": [
      "Division by zero is not allowed.\n"
     ]
    }
   ],
   "source": [
    "'''\n",
    "The ArithmeticError class in Python is a base class for exceptions that occur during arithmetic operations. It serves as a superclass \n",
    "for various arithmetic-related exceptions.\n",
    "\n",
    "Some of the errors defined in the ArithmeticError class include:\n",
    "\n",
    "OverflowError: Raised when an arithmetic operation exceeds the limits of the numeric type.\n",
    "ZeroDivisionError: Raised when division or modulo operation is performed with zero as the divisor.\n",
    "\n",
    "'''\n",
    "\n",
    "try:\n",
    "    result = 2 ** 10000000000000000  # Attempting to calculate 2 raised to the power of very big value\n",
    "except OverflowError:\n",
    "    print(\"Arithmetic operation resulted in overflow.\")\n",
    "\n",
    "\n",
    "\n",
    "try:\n",
    "    result = 10 / 0  # Attempting to divide by zero\n",
    "except ZeroDivisionError:\n",
    "    print(\"Division by zero is not allowed.\")\n"
   ]
  },
  {
   "cell_type": "markdown",
   "metadata": {},
   "source": [
    "Q4. Why LookupError class is used? Explain with an example KeyError and IndexError."
   ]
  },
  {
   "cell_type": "code",
   "execution_count": 3,
   "metadata": {},
   "outputs": [
    {
     "name": "stdout",
     "output_type": "stream",
     "text": [
      "Key not found in dictionary.\n",
      "Index out of range.\n"
     ]
    }
   ],
   "source": [
    "'''\n",
    "\n",
    "The LookupError class in Python is a base class for exceptions that occur when a key or index is not found in a mapping or sequence, \n",
    "respectively. It is a subclass of the Exception class and serves as a common superclass for exceptions related to lookup operations.\n",
    "It takes care of both non exsisting key and index\n",
    "\n",
    "\n",
    "\n",
    "KeyError is a specific exception that occurs when attempting to access a non-existent key in a dictionary.\n",
    "\n",
    "\n",
    "IndexError is another specific exception that occurs when attempting to access an index that is out of range in a sequence, \n",
    "such as a list or tuple.\n",
    "\n",
    "'''\n",
    "\n",
    "my_dict = {'a': 1, 'b': 2, 'c': 3}\n",
    "try:\n",
    "    value = my_dict['d']  # Accessing a non-existent key 'd'\n",
    "except KeyError:\n",
    "    print(\"Key not found in dictionary.\")\n",
    "\n",
    "\n",
    "my_list = [1, 2, 3]\n",
    "try:\n",
    "    value = my_list[3]  # Accessing index 3 in a list with length 3\n",
    "except IndexError:\n",
    "    print(\"Index out of range.\")\n"
   ]
  },
  {
   "cell_type": "markdown",
   "metadata": {},
   "source": [
    "Q5. Explain ImportError. What is ModuleNotFoundError?"
   ]
  },
  {
   "cell_type": "code",
   "execution_count": null,
   "metadata": {},
   "outputs": [],
   "source": [
    "'''\n",
    "ImportError is a built-in exception raised when an import statement fails to locate and import a module. This error can occur for \n",
    "various reasons, such as the module not being installed, the module not being in the Python search path, or the module's name being \n",
    "misspelled.\n",
    "\n",
    "\n",
    "ModuleNotFoundError is a subclass of ImportError introduced in Python 3.6. It specifically indicates that the requested module \n",
    "cannot be found\n",
    "\n",
    "'''"
   ]
  },
  {
   "cell_type": "markdown",
   "metadata": {},
   "source": [
    "Q6. List down some best practices for exception handling in python."
   ]
  },
  {
   "cell_type": "code",
   "execution_count": 1,
   "metadata": {},
   "outputs": [],
   "source": [
    "# 1.Use Specific Exception Types\n",
    "# 2.Avoid Bare Except Clauses: Avoid using bare except because we wont excatly what is casuing the error\n",
    "# 3.Use try-except Blocks Sparingly keep try block as small as possible key only doubtfull code keep remaining code in finally block"
   ]
  },
  {
   "cell_type": "code",
   "execution_count": null,
   "metadata": {},
   "outputs": [],
   "source": []
  }
 ],
 "metadata": {
  "kernelspec": {
   "display_name": "myenv",
   "language": "python",
   "name": "python3"
  },
  "language_info": {
   "codemirror_mode": {
    "name": "ipython",
    "version": 3
   },
   "file_extension": ".py",
   "mimetype": "text/x-python",
   "name": "python",
   "nbconvert_exporter": "python",
   "pygments_lexer": "ipython3",
   "version": "3.8.18"
  }
 },
 "nbformat": 4,
 "nbformat_minor": 2
}
