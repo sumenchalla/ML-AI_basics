{
 "cells": [
  {
   "cell_type": "markdown",
   "metadata": {},
   "source": [
    "Q1. What is an Exception in python? Write the difference between Exceptions and syntax errors"
   ]
  },
  {
   "cell_type": "code",
   "execution_count": 1,
   "metadata": {},
   "outputs": [
    {
     "data": {
      "text/plain": [
       "\"exceptions are runtime errors that occur during program execution and can be handled using try-except blocks, while syntax errors \\nare errors in the code's syntax that prevent the program from being executed and must be fixed before running the program\""
      ]
     },
     "execution_count": 1,
     "metadata": {},
     "output_type": "execute_result"
    }
   ],
   "source": [
    "'''exceptions are runtime errors that occur during program execution and can be handled using try-except blocks, while syntax errors \n",
    "are errors in the code's syntax that prevent the program from being executed and must be fixed before running the program'''"
   ]
  },
  {
   "cell_type": "markdown",
   "metadata": {},
   "source": [
    "Q2. What happens when an exception is not handled? Explain with an example"
   ]
  },
  {
   "cell_type": "code",
   "execution_count": 2,
   "metadata": {},
   "outputs": [
    {
     "name": "stdout",
     "output_type": "stream",
     "text": [
      "Error: division by zero\n"
     ]
    }
   ],
   "source": [
    "'''\n",
    "When an exception is not handled, it propagates up the call stack until it reaches the top-level of the program, which \n",
    "typically results in the program being terminated and an error message being displayed to the user. This process is called \n",
    "\"unhandled exception\" or \"exception propagation\" '''\n",
    "\n",
    "def divide(a, b):\n",
    "    return a / b\n",
    "\n",
    "try:\n",
    "    result = divide(10, 0)  # Attempting to divide by zero\n",
    "    print(\"Result:\", result)\n",
    "except ZeroDivisionError as e:\n",
    "    print(\"Error:\", e)\n"
   ]
  },
  {
   "cell_type": "markdown",
   "metadata": {},
   "source": [
    "Q3. Which Python statements are used to catch and handle exceptions? Explain with an example"
   ]
  },
  {
   "cell_type": "code",
   "execution_count": 3,
   "metadata": {},
   "outputs": [
    {
     "name": "stdout",
     "output_type": "stream",
     "text": [
      "Result: 5.0\n",
      "Error: division by zero\n",
      "Cannot divide by zero.\n"
     ]
    }
   ],
   "source": [
    "'''In Python, the try and except statements are used to catch and handle exceptions. The try block is used to wrap the code \n",
    "that may raise an exception, and the except block is used to specify the code that should be executed if a specific exception \n",
    "occurs within the try block.'''\n",
    "\n",
    "def divide(a, b):\n",
    "    try:\n",
    "        result = a / b\n",
    "        print(\"Result:\", result)\n",
    "    except ZeroDivisionError as e:\n",
    "        print(\"Error:\", e)\n",
    "        print(\"Cannot divide by zero.\")\n",
    "\n",
    "# Example usage\n",
    "divide(10, 2)  # Output: Result: 5.0\n",
    "divide(10, 0)  # Output: Error: division by zero\n",
    "               #         Cannot divide by zero.\n"
   ]
  },
  {
   "cell_type": "markdown",
   "metadata": {},
   "source": [
    "Q4. Explain with an example:\n",
    "    Try and else\n",
    "    finally\n",
    "    raise"
   ]
  },
  {
   "cell_type": "code",
   "execution_count": 4,
   "metadata": {},
   "outputs": [
    {
     "name": "stdout",
     "output_type": "stream",
     "text": [
      "Division result: 5.0\n",
      "File not found.\n",
      "Hello, Alice\n",
      "Error: Name cannot be empty.\n"
     ]
    }
   ],
   "source": [
    "try:\n",
    "    result = 10 / 2  # Division operation that may raise an exception\n",
    "except ZeroDivisionError:\n",
    "    print(\"Cannot divide by zero.\")\n",
    "else:\n",
    "    print(\"Division result:\", result)\n",
    "\n",
    "\n",
    "\n",
    "try:\n",
    "    file = open(\"example.txt\", \"r\")\n",
    "    data = file.read()\n",
    "    print(data)\n",
    "except FileNotFoundError:\n",
    "    print(\"File not found.\")\n",
    "finally:\n",
    "    if 'file' in locals():\n",
    "        file.close()  # Close the file, whether an exception occurs or not\n",
    "\n",
    "\n",
    "\n",
    "def greet(name):\n",
    "    if not name:\n",
    "        raise ValueError(\"Name cannot be empty.\")\n",
    "    else:\n",
    "        print(\"Hello, \" + name)\n",
    "\n",
    "try:\n",
    "    greet(\"Alice\")\n",
    "    greet(\"\")  # Raises a ValueError\n",
    "except ValueError as e:\n",
    "    print(\"Error:\", e)\n"
   ]
  },
  {
   "cell_type": "markdown",
   "metadata": {},
   "source": [
    "Q5,Q6. What are Custom Exceptions in python? Why do we need Custom Exceptions? Explain with an example"
   ]
  },
  {
   "cell_type": "code",
   "execution_count": 5,
   "metadata": {},
   "outputs": [
    {
     "name": "stdout",
     "output_type": "stream",
     "text": [
      "Withdrawal successful. New balance: 50\n",
      "WithdrawalError: Insufficient balance (50) for withdrawal amount (100)\n"
     ]
    }
   ],
   "source": [
    "class WithdrawalError(Exception):\n",
    "    \"\"\"Custom exception for representing withdrawal errors\"\"\"\n",
    "\n",
    "    def __init__(self, balance, amount):\n",
    "        self.balance = balance\n",
    "        self.amount = amount\n",
    "\n",
    "    def __str__(self):\n",
    "        return f\"WithdrawalError: Insufficient balance ({self.balance}) for withdrawal amount ({self.amount})\"\n",
    "\n",
    "\n",
    "class BankAccount:\n",
    "    \"\"\"Class representing a bank account\"\"\"\n",
    "\n",
    "    def __init__(self, balance):\n",
    "        self.balance = balance\n",
    "\n",
    "    def withdraw(self, amount):\n",
    "        if amount > self.balance:\n",
    "            raise WithdrawalError(self.balance, amount)\n",
    "        else:\n",
    "            self.balance -= amount\n",
    "            return f\"Withdrawal successful. New balance: {self.balance}\"\n",
    "\n",
    "\n",
    "# Example usage\n",
    "try:\n",
    "    account = BankAccount(100)\n",
    "    print(account.withdraw(50))  # Output: Withdrawal successful. New balance: 50\n",
    "    print(account.withdraw(100))  # Raises a WithdrawalError\n",
    "except WithdrawalError as e:\n",
    "    print(e)  # Output: WithdrawalError: Insufficient balance (50) for withdrawal amount (100)\n"
   ]
  },
  {
   "cell_type": "code",
   "execution_count": null,
   "metadata": {},
   "outputs": [],
   "source": []
  }
 ],
 "metadata": {
  "kernelspec": {
   "display_name": "myenv",
   "language": "python",
   "name": "python3"
  },
  "language_info": {
   "codemirror_mode": {
    "name": "ipython",
    "version": 3
   },
   "file_extension": ".py",
   "mimetype": "text/x-python",
   "name": "python",
   "nbconvert_exporter": "python",
   "pygments_lexer": "ipython3",
   "version": "3.8.18"
  }
 },
 "nbformat": 4,
 "nbformat_minor": 2
}
